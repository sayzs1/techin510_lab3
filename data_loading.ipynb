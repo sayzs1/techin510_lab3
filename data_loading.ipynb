{
 "cells": [
  {
   "cell_type": "markdown",
   "metadata": {},
   "source": [
    "# SQLite"
   ]
  },
  {
   "cell_type": "code",
   "execution_count": 1,
   "metadata": {},
   "outputs": [],
   "source": [
    "import sqlite3\n",
    "con = sqlite3.connect(\"week3.sqlite\", isolation_level=None)\n",
    "cur = con.cursor()\n"
   ]
  },
  {
   "cell_type": "markdown",
   "metadata": {},
   "source": [
    "Data types in SQLite  \n",
    "https://www.sqlite.org/datatype3.html"
   ]
  },
  {
   "cell_type": "code",
   "execution_count": 21,
   "metadata": {},
   "outputs": [
    {
     "data": {
      "text/plain": [
       "<sqlite3.Cursor at 0x7ff43442cdc0>"
      ]
     },
     "execution_count": 21,
     "metadata": {},
     "output_type": "execute_result"
    }
   ],
   "source": [
    "cur.execute(\"\"\"DROP TABLE IF EXISTS movies\"\"\")"
   ]
  },
  {
   "cell_type": "code",
   "execution_count": 52,
   "metadata": {},
   "outputs": [
    {
     "data": {
      "text/plain": [
       "<sqlite3.Cursor at 0x7ff43442cdc0>"
      ]
     },
     "execution_count": 52,
     "metadata": {},
     "output_type": "execute_result"
    }
   ],
   "source": [
    "q = \"\"\"\n",
    "CREATE TABLE IF NOT EXISTS movies (\n",
    "    id INTEGER PRIMARY KEY,\n",
    "    title TEXT,\n",
    "    year INTEGER,\n",
    "    rating FLOAT,\n",
    "    is_watched BOOLEAN DEFAULT 0,\n",
    "    created_at DATETIME DEFAULT CURRENT_TIMESTAMP,\n",
    "    updated_at DATETIME DEFAULT CURRENT_TIMESTAMP\n",
    ")\n",
    "\"\"\"\n",
    "cur.execute(q)"
   ]
  },
  {
   "cell_type": "code",
   "execution_count": 54,
   "metadata": {},
   "outputs": [],
   "source": [
    "# Check if the table is created\n",
    "q = \"\"\"\n",
    "SELECT\n",
    "    *\n",
    "FROM\n",
    "    sqlite_master\n",
    "\"\"\"\n",
    "res = cur.execute(q)"
   ]
  },
  {
   "cell_type": "code",
   "execution_count": 55,
   "metadata": {},
   "outputs": [
    {
     "data": {
      "text/plain": [
       "('table',\n",
       " 'movies',\n",
       " 'movies',\n",
       " 2,\n",
       " 'CREATE TABLE movies (\\n    id INTEGER PRIMARY KEY,\\n    title TEXT,\\n    year INTEGER,\\n    rating FLOAT,\\n    is_watched BOOLEAN DEFAULT 0,\\n    created_at DATETIME DEFAULT CURRENT_TIMESTAMP\\n)')"
      ]
     },
     "execution_count": 55,
     "metadata": {},
     "output_type": "execute_result"
    }
   ],
   "source": [
    "res.fetchone()"
   ]
  },
  {
   "cell_type": "code",
   "execution_count": 48,
   "metadata": {},
   "outputs": [
    {
     "data": {
      "text/plain": [
       "[]"
      ]
     },
     "execution_count": 48,
     "metadata": {},
     "output_type": "execute_result"
    }
   ],
   "source": [
    "q = \"\"\"\n",
    "INSERT INTO movies (\n",
    "    title, \n",
    "    year, \n",
    "    rating\n",
    "    ) VALUES (?, ?, ?)\n",
    "\"\"\"\n",
    "\n",
    "cur.execute(q, (\"The Matrix\", 1999, 5.0))\n",
    "res.fetchall()"
   ]
  },
  {
   "cell_type": "code",
   "execution_count": 49,
   "metadata": {},
   "outputs": [
    {
     "data": {
      "text/plain": [
       "<sqlite3.Cursor at 0x7ff43442cdc0>"
      ]
     },
     "execution_count": 49,
     "metadata": {},
     "output_type": "execute_result"
    }
   ],
   "source": [
    "cur.execute(q, (\"Forrest Gump\", 1994, 3.5))"
   ]
  },
  {
   "cell_type": "code",
   "execution_count": 56,
   "metadata": {},
   "outputs": [
    {
     "name": "stdout",
     "output_type": "stream",
     "text": [
      "(1, 'The Matrix', 1999, 5.0, 0, '2024-01-23 23:17:51')\n",
      "(2, 'The Matrix', 1999, 5.0, 0, '2024-01-23 23:19:14')\n",
      "(3, 'Forrest Gump', 1994, 3.5, 0, '2024-01-23 23:19:16')\n",
      "(4, 'The Matrix', 1999, 5.0, 0, '2024-01-23 23:24:11')\n",
      "(5, 'The Matrix', 1999, 5.0, 0, '2024-01-23 23:24:36')\n",
      "(6, 'The Matrix', 1999, 5.0, 0, '2024-01-23 23:25:11')\n",
      "(7, 'The Matrix', 1999, 5.0, 0, '2024-01-23 23:25:26')\n",
      "(8, 'The Matrix', 1999, 5.0, 0, '2024-01-23 23:31:27')\n",
      "(9, 'Forrest Gump', 1994, 3.5, 0, '2024-01-23 23:31:30')\n",
      "(10, 'Monty Python Live at the Hollywood Bowl', 1982, 5.0, 0, '2024-01-23 23:31:37')\n",
      "(11, \"Monty Python's The Meaning of Life\", 1983, 4.5, 0, '2024-01-23 23:31:37')\n",
      "(12, \"Monty Python's Life of Brian\", 1979, 3.9, 0, '2024-01-23 23:31:37')\n",
      "(13, 'The Matrix', 1999, 5.0, 0, '2024-01-23 23:33:01')\n",
      "(14, 'Forrest Gump', 1994, 3.5, 0, '2024-01-23 23:33:03')\n",
      "(15, 'Monty Python Live at the Hollywood Bowl', 1982, 5.0, 0, '2024-01-23 23:33:14')\n",
      "(16, \"Monty Python's The Meaning of Life\", 1983, 4.5, 0, '2024-01-23 23:33:14')\n",
      "(17, \"Monty Python's Life of Brian\", 1979, 3.9, 0, '2024-01-23 23:33:14')\n"
     ]
    }
   ],
   "source": [
    "res = [x for x in cur.execute(\"\"\"SELECT * FROM movies\"\"\")]\n",
    "# compared with fetchall this command only read one line at a time\n",
    "for row in res:\n",
    "    print(row)"
   ]
  },
  {
   "cell_type": "code",
   "execution_count": 58,
   "metadata": {},
   "outputs": [
    {
     "data": {
      "text/plain": [
       "<sqlite3.Cursor at 0x7ff43442cdc0>"
      ]
     },
     "execution_count": 58,
     "metadata": {},
     "output_type": "execute_result"
    }
   ],
   "source": [
    "data = [\n",
    "    (\"Monty Python Live at the Hollywood Bowl\", 1982, 5.0),\n",
    "    (\"Monty Python's The Meaning of Life\", 1983, 4.5),\n",
    "    (\"Monty Python's Life of Brian\", 1979, 3.9),\n",
    "]\n",
    "cur.executemany(# execute many is used to insert multiple rows at once\n",
    "    \"INSERT INTO movies (title, year, rating) VALUES(?, ?, ?)\", \n",
    "    data\n",
    ")"
   ]
  },
  {
   "cell_type": "code",
   "execution_count": 47,
   "metadata": {},
   "outputs": [
    {
     "name": "stdout",
     "output_type": "stream",
     "text": [
      "(1979, \"Monty Python's Life of Brian\")\n",
      "(1982, 'Monty Python Live at the Hollywood Bowl')\n",
      "(1983, \"Monty Python's The Meaning of Life\")\n",
      "(1994, 'Forrest Gump')\n",
      "(1994, 'Forrest Gump')\n",
      "(1999, 'The Matrix')\n",
      "(1999, 'The Matrix')\n",
      "(1999, 'The Matrix')\n",
      "(1999, 'The Matrix')\n",
      "(1999, 'The Matrix')\n",
      "(1999, 'The Matrix')\n",
      "(1999, 'The Matrix')\n"
     ]
    }
   ],
   "source": [
    "for row in cur.execute(\"SELECT year, title FROM movies ORDER BY year\"):\n",
    "    print(row)"
   ]
  },
  {
   "cell_type": "markdown",
   "metadata": {},
   "source": [
    "# Pandas"
   ]
  },
  {
   "cell_type": "code",
   "execution_count": 59,
   "metadata": {},
   "outputs": [],
   "source": [
    "import pandas as pd"
   ]
  },
  {
   "cell_type": "code",
   "execution_count": 68,
   "metadata": {},
   "outputs": [],
   "source": [
    "data= [\n",
    "    {\"name\":\"Zia\"},\n",
    "    {\"name\":\"Sun\"}\n",
    "]\n",
    "df = pd.DataFrame(data)"
   ]
  },
  {
   "cell_type": "code",
   "execution_count": 69,
   "metadata": {},
   "outputs": [
    {
     "data": {
      "text/plain": [
       "2"
      ]
     },
     "execution_count": 69,
     "metadata": {},
     "output_type": "execute_result"
    }
   ],
   "source": [
    "con = sqlite3.connect(\"week3.sqlite\", isolation_level=None)\n",
    "df.to_sql(\"people\", con, if_exists=\"replace\")"
   ]
  },
  {
   "cell_type": "code",
   "execution_count": 70,
   "metadata": {},
   "outputs": [
    {
     "data": {
      "text/html": [
       "<div>\n",
       "<style scoped>\n",
       "    .dataframe tbody tr th:only-of-type {\n",
       "        vertical-align: middle;\n",
       "    }\n",
       "\n",
       "    .dataframe tbody tr th {\n",
       "        vertical-align: top;\n",
       "    }\n",
       "\n",
       "    .dataframe thead th {\n",
       "        text-align: right;\n",
       "    }\n",
       "</style>\n",
       "<table border=\"1\" class=\"dataframe\">\n",
       "  <thead>\n",
       "    <tr style=\"text-align: right;\">\n",
       "      <th></th>\n",
       "      <th>name</th>\n",
       "    </tr>\n",
       "  </thead>\n",
       "  <tbody>\n",
       "    <tr>\n",
       "      <th>0</th>\n",
       "      <td>Zia</td>\n",
       "    </tr>\n",
       "    <tr>\n",
       "      <th>1</th>\n",
       "      <td>Sun</td>\n",
       "    </tr>\n",
       "  </tbody>\n",
       "</table>\n",
       "</div>"
      ],
      "text/plain": [
       "  name\n",
       "0  Zia\n",
       "1  Sun"
      ]
     },
     "execution_count": 70,
     "metadata": {},
     "output_type": "execute_result"
    }
   ],
   "source": [
    "df.head()"
   ]
  }
 ],
 "metadata": {
  "kernelspec": {
   "display_name": "Python 3",
   "language": "python",
   "name": "python3"
  },
  "language_info": {
   "codemirror_mode": {
    "name": "ipython",
    "version": 3
   },
   "file_extension": ".py",
   "mimetype": "text/x-python",
   "name": "python",
   "nbconvert_exporter": "python",
   "pygments_lexer": "ipython3",
   "version": "3.11.7"
  }
 },
 "nbformat": 4,
 "nbformat_minor": 2
}
